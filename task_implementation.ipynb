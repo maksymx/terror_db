{
 "cells": [
  {
   "cell_type": "code",
   "execution_count": 2,
   "metadata": {},
   "outputs": [
    {
     "name": "stderr",
     "output_type": "stream",
     "text": [
      "/Users/khrystynakosenko/anaconda/envs/py27/lib/python2.7/site-packages/IPython/html.py:14: ShimWarning: The `IPython.html` package has been deprecated since IPython 4.0. You should import from `notebook` instead. `IPython.html.widgets` has moved to `ipywidgets`.\n",
      "  \"`IPython.html.widgets` has moved to `ipywidgets`.\", ShimWarning)\n",
      "/Users/khrystynakosenko/anaconda/envs/py27/lib/python2.7/site-packages/sklearn/cross_validation.py:44: DeprecationWarning: This module was deprecated in version 0.18 in favor of the model_selection module into which all the refactored classes and functions are moved. Also note that the interface of the new CV iterators are different from that of this module. This module will be removed in 0.20.\n",
      "  \"This module will be removed in 0.20.\", DeprecationWarning)\n"
     ]
    }
   ],
   "source": [
    "%matplotlib inline\n",
    "\n",
    "import pandas as pd\n",
    "import numpy as np\n",
    "import seaborn as sns\n",
    "import matplotlib.pyplot as plt\n",
    "from IPython.display import Image\n",
    "import pickle\n",
    "from numpy import unique\n",
    "from numpy import random\n",
    "\n",
    "\n",
    "from sklearn.cross_validation import train_test_split\n",
    "from sklearn.cross_validation import cross_val_score\n",
    "from sklearn import metrics\n",
    "from sklearn import cross_validation\n",
    "from sklearn.preprocessing import LabelEncoder\n",
    "from sklearn import preprocessing\n",
    "from sklearn.cross_validation import KFold\n",
    "from sklearn.ensemble import RandomForestClassifier \n",
    "from sklearn.neighbors import KNeighborsClassifier\n",
    "from sklearn.linear_model import LogisticRegression\n",
    "from sklearn.svm import SVC\n",
    "from sklearn import linear_model\n",
    "\n",
    "\n",
    "pd.set_option('display.max_column', 999)\n",
    "pd.set_option('display.max_row', 999)"
   ]
  },
  {
   "cell_type": "code",
   "execution_count": 3,
   "metadata": {
    "collapsed": true
   },
   "outputs": [],
   "source": [
    "df_merchants_old = pd.read_csv('/Users/khrystynakosenko/izettle/Data scienctist test/merchant_profile_old.csv')\n",
    "df_trans_old = pd.read_csv('/Users/khrystynakosenko/izettle/Data scienctist test/transactions_old.csv')"
   ]
  },
  {
   "cell_type": "code",
   "execution_count": 4,
   "metadata": {},
   "outputs": [
    {
     "data": {
      "text/html": [
       "<div>\n",
       "<style>\n",
       "    .dataframe thead tr:only-child th {\n",
       "        text-align: right;\n",
       "    }\n",
       "\n",
       "    .dataframe thead th {\n",
       "        text-align: left;\n",
       "    }\n",
       "\n",
       "    .dataframe tbody tr th {\n",
       "        vertical-align: top;\n",
       "    }\n",
       "</style>\n",
       "<table border=\"1\" class=\"dataframe\">\n",
       "  <thead>\n",
       "    <tr style=\"text-align: right;\">\n",
       "      <th></th>\n",
       "      <th>customer_uuid</th>\n",
       "      <th>registration_timestamp</th>\n",
       "      <th>region</th>\n",
       "      <th>sales_channel</th>\n",
       "      <th>merchant_category</th>\n",
       "    </tr>\n",
       "  </thead>\n",
       "  <tbody>\n",
       "    <tr>\n",
       "      <th>0</th>\n",
       "      <td>8252201a-9149-11e7-9552-9801a7abc7bf</td>\n",
       "      <td>2016-05-05 02:09:43</td>\n",
       "      <td>Latin America</td>\n",
       "      <td>Partnership</td>\n",
       "      <td>Retail</td>\n",
       "    </tr>\n",
       "    <tr>\n",
       "      <th>1</th>\n",
       "      <td>827afa1c-9149-11e7-aaac-9801a7abc7bf</td>\n",
       "      <td>2016-05-31 15:43:21</td>\n",
       "      <td>Europe</td>\n",
       "      <td>Online</td>\n",
       "      <td>Health Services</td>\n",
       "    </tr>\n",
       "    <tr>\n",
       "      <th>2</th>\n",
       "      <td>829e0250-9149-11e7-8c24-9801a7abc7bf</td>\n",
       "      <td>2015-08-22 15:48:02</td>\n",
       "      <td>Latin America</td>\n",
       "      <td>Online</td>\n",
       "      <td>Retail</td>\n",
       "    </tr>\n",
       "    <tr>\n",
       "      <th>3</th>\n",
       "      <td>82bd2980-9149-11e7-ab33-9801a7abc7bf</td>\n",
       "      <td>2016-05-13 02:05:36</td>\n",
       "      <td>Europe</td>\n",
       "      <td>Online</td>\n",
       "      <td>Food &amp; Drink</td>\n",
       "    </tr>\n",
       "    <tr>\n",
       "      <th>4</th>\n",
       "      <td>82e79924-9149-11e7-83c4-9801a7abc7bf</td>\n",
       "      <td>2015-10-08 02:15:33</td>\n",
       "      <td>Europe</td>\n",
       "      <td>Online</td>\n",
       "      <td>Health Services</td>\n",
       "    </tr>\n",
       "  </tbody>\n",
       "</table>\n",
       "</div>"
      ],
      "text/plain": [
       "                          customer_uuid registration_timestamp         region  \\\n",
       "0  8252201a-9149-11e7-9552-9801a7abc7bf    2016-05-05 02:09:43  Latin America   \n",
       "1  827afa1c-9149-11e7-aaac-9801a7abc7bf    2016-05-31 15:43:21         Europe   \n",
       "2  829e0250-9149-11e7-8c24-9801a7abc7bf    2015-08-22 15:48:02  Latin America   \n",
       "3  82bd2980-9149-11e7-ab33-9801a7abc7bf    2016-05-13 02:05:36         Europe   \n",
       "4  82e79924-9149-11e7-83c4-9801a7abc7bf    2015-10-08 02:15:33         Europe   \n",
       "\n",
       "  sales_channel merchant_category  \n",
       "0   Partnership            Retail  \n",
       "1        Online   Health Services  \n",
       "2        Online            Retail  \n",
       "3        Online      Food & Drink  \n",
       "4        Online   Health Services  "
      ]
     },
     "execution_count": 4,
     "metadata": {},
     "output_type": "execute_result"
    }
   ],
   "source": [
    "df_merchants_old.head()"
   ]
  },
  {
   "cell_type": "code",
   "execution_count": 5,
   "metadata": {
    "collapsed": true
   },
   "outputs": [],
   "source": [
    "train = pd.merge(df_merchants_old, df_trans_old, on = 'customer_uuid')\n"
   ]
  },
  {
   "cell_type": "markdown",
   "metadata": {},
   "source": [
    "# Making labels as profitable "
   ]
  },
  {
   "cell_type": "code",
   "execution_count": 6,
   "metadata": {
    "collapsed": true
   },
   "outputs": [],
   "source": [
    "train.loc[(train.region == 'Latin America') & (train.sales_channel == 'Online'), 'expense'] = 47\n",
    "train.loc[(train.region == 'Latin America') & (train.sales_channel == 'Partnership'), 'expense'] = 63\n",
    "train.loc[(train.region == 'Latin America') & (train.sales_channel == 'Direct Sales'), 'expense'] = 89\n",
    "train.loc[(train.region == 'Europe') & (train.sales_channel == 'Online'), 'expense'] = 69\n",
    "train.loc[(train.region == 'Europe') & (train.sales_channel == 'Partnership'), 'expense'] = 83\n",
    "train.loc[(train.region == 'Europe') & (train.sales_channel == 'Direct Sales'), 'expense'] = 103"
   ]
  },
  {
   "cell_type": "code",
   "execution_count": 7,
   "metadata": {},
   "outputs": [
    {
     "data": {
      "text/html": [
       "<div>\n",
       "<style>\n",
       "    .dataframe thead tr:only-child th {\n",
       "        text-align: right;\n",
       "    }\n",
       "\n",
       "    .dataframe thead th {\n",
       "        text-align: left;\n",
       "    }\n",
       "\n",
       "    .dataframe tbody tr th {\n",
       "        vertical-align: top;\n",
       "    }\n",
       "</style>\n",
       "<table border=\"1\" class=\"dataframe\">\n",
       "  <thead>\n",
       "    <tr style=\"text-align: right;\">\n",
       "      <th></th>\n",
       "      <th>customer_uuid</th>\n",
       "      <th>registration_timestamp</th>\n",
       "      <th>region</th>\n",
       "      <th>sales_channel</th>\n",
       "      <th>merchant_category</th>\n",
       "      <th>transaction_timestamp</th>\n",
       "      <th>amount_eur</th>\n",
       "      <th>expense</th>\n",
       "    </tr>\n",
       "  </thead>\n",
       "  <tbody>\n",
       "    <tr>\n",
       "      <th>0</th>\n",
       "      <td>8252201a-9149-11e7-9552-9801a7abc7bf</td>\n",
       "      <td>2016-05-05 02:09:43</td>\n",
       "      <td>Latin America</td>\n",
       "      <td>Partnership</td>\n",
       "      <td>Retail</td>\n",
       "      <td>2016-06-02 11:39:53</td>\n",
       "      <td>6.168745</td>\n",
       "      <td>63.0</td>\n",
       "    </tr>\n",
       "    <tr>\n",
       "      <th>1</th>\n",
       "      <td>8252201a-9149-11e7-9552-9801a7abc7bf</td>\n",
       "      <td>2016-05-05 02:09:43</td>\n",
       "      <td>Latin America</td>\n",
       "      <td>Partnership</td>\n",
       "      <td>Retail</td>\n",
       "      <td>2016-06-02 14:00:47</td>\n",
       "      <td>9.114703</td>\n",
       "      <td>63.0</td>\n",
       "    </tr>\n",
       "    <tr>\n",
       "      <th>2</th>\n",
       "      <td>8252201a-9149-11e7-9552-9801a7abc7bf</td>\n",
       "      <td>2016-05-05 02:09:43</td>\n",
       "      <td>Latin America</td>\n",
       "      <td>Partnership</td>\n",
       "      <td>Retail</td>\n",
       "      <td>2016-06-02 16:44:18</td>\n",
       "      <td>5.125684</td>\n",
       "      <td>63.0</td>\n",
       "    </tr>\n",
       "    <tr>\n",
       "      <th>3</th>\n",
       "      <td>8252201a-9149-11e7-9552-9801a7abc7bf</td>\n",
       "      <td>2016-05-05 02:09:43</td>\n",
       "      <td>Latin America</td>\n",
       "      <td>Partnership</td>\n",
       "      <td>Retail</td>\n",
       "      <td>2016-06-02 21:24:36</td>\n",
       "      <td>18.967257</td>\n",
       "      <td>63.0</td>\n",
       "    </tr>\n",
       "    <tr>\n",
       "      <th>4</th>\n",
       "      <td>8252201a-9149-11e7-9552-9801a7abc7bf</td>\n",
       "      <td>2016-05-05 02:09:43</td>\n",
       "      <td>Latin America</td>\n",
       "      <td>Partnership</td>\n",
       "      <td>Retail</td>\n",
       "      <td>2016-11-01 13:50:20</td>\n",
       "      <td>15.334802</td>\n",
       "      <td>63.0</td>\n",
       "    </tr>\n",
       "  </tbody>\n",
       "</table>\n",
       "</div>"
      ],
      "text/plain": [
       "                          customer_uuid registration_timestamp         region  \\\n",
       "0  8252201a-9149-11e7-9552-9801a7abc7bf    2016-05-05 02:09:43  Latin America   \n",
       "1  8252201a-9149-11e7-9552-9801a7abc7bf    2016-05-05 02:09:43  Latin America   \n",
       "2  8252201a-9149-11e7-9552-9801a7abc7bf    2016-05-05 02:09:43  Latin America   \n",
       "3  8252201a-9149-11e7-9552-9801a7abc7bf    2016-05-05 02:09:43  Latin America   \n",
       "4  8252201a-9149-11e7-9552-9801a7abc7bf    2016-05-05 02:09:43  Latin America   \n",
       "\n",
       "  sales_channel merchant_category transaction_timestamp  amount_eur  expense  \n",
       "0   Partnership            Retail   2016-06-02 11:39:53    6.168745     63.0  \n",
       "1   Partnership            Retail   2016-06-02 14:00:47    9.114703     63.0  \n",
       "2   Partnership            Retail   2016-06-02 16:44:18    5.125684     63.0  \n",
       "3   Partnership            Retail   2016-06-02 21:24:36   18.967257     63.0  \n",
       "4   Partnership            Retail   2016-11-01 13:50:20   15.334802     63.0  "
      ]
     },
     "execution_count": 7,
     "metadata": {},
     "output_type": "execute_result"
    }
   ],
   "source": [
    "train.head()"
   ]
  },
  {
   "cell_type": "code",
   "execution_count": 8,
   "metadata": {
    "collapsed": true
   },
   "outputs": [],
   "source": [
    "def transaction_sum(data):\n",
    "    grouped= data.groupby('customer_uuid')['amount_eur'].sum()\n",
    "    grouped = grouped.reset_index()\n",
    "    result = pd.merge(data,grouped, on = ['customer_uuid'])\n",
    "    print result.head()\n",
    "    return result "
   ]
  },
  {
   "cell_type": "code",
   "execution_count": 9,
   "metadata": {},
   "outputs": [
    {
     "name": "stdout",
     "output_type": "stream",
     "text": [
      "                          customer_uuid registration_timestamp         region  \\\n",
      "0  8252201a-9149-11e7-9552-9801a7abc7bf    2016-05-05 02:09:43  Latin America   \n",
      "1  8252201a-9149-11e7-9552-9801a7abc7bf    2016-05-05 02:09:43  Latin America   \n",
      "2  8252201a-9149-11e7-9552-9801a7abc7bf    2016-05-05 02:09:43  Latin America   \n",
      "3  8252201a-9149-11e7-9552-9801a7abc7bf    2016-05-05 02:09:43  Latin America   \n",
      "4  8252201a-9149-11e7-9552-9801a7abc7bf    2016-05-05 02:09:43  Latin America   \n",
      "\n",
      "  sales_channel merchant_category transaction_timestamp  amount_eur_x  \\\n",
      "0   Partnership            Retail   2016-06-02 11:39:53      6.168745   \n",
      "1   Partnership            Retail   2016-06-02 14:00:47      9.114703   \n",
      "2   Partnership            Retail   2016-06-02 16:44:18      5.125684   \n",
      "3   Partnership            Retail   2016-06-02 21:24:36     18.967257   \n",
      "4   Partnership            Retail   2016-11-01 13:50:20     15.334802   \n",
      "\n",
      "   expense  amount_eur_y  \n",
      "0     63.0   7214.847977  \n",
      "1     63.0   7214.847977  \n",
      "2     63.0   7214.847977  \n",
      "3     63.0   7214.847977  \n",
      "4     63.0   7214.847977  \n"
     ]
    }
   ],
   "source": [
    "train_p = transaction_sum(train)"
   ]
  },
  {
   "cell_type": "code",
   "execution_count": 10,
   "metadata": {
    "collapsed": true
   },
   "outputs": [],
   "source": [
    "profir_margin_L_A = 0.04\n",
    "profir_margin_E = 0.02\n",
    "train_p['profit'] = train_p['amount_eur_y'] * pd.np.where(train_p['region'] == 'Latin America', profir_margin_L_A, profir_margin_E)\n"
   ]
  },
  {
   "cell_type": "code",
   "execution_count": 11,
   "metadata": {},
   "outputs": [
    {
     "data": {
      "text/html": [
       "<div>\n",
       "<style>\n",
       "    .dataframe thead tr:only-child th {\n",
       "        text-align: right;\n",
       "    }\n",
       "\n",
       "    .dataframe thead th {\n",
       "        text-align: left;\n",
       "    }\n",
       "\n",
       "    .dataframe tbody tr th {\n",
       "        vertical-align: top;\n",
       "    }\n",
       "</style>\n",
       "<table border=\"1\" class=\"dataframe\">\n",
       "  <thead>\n",
       "    <tr style=\"text-align: right;\">\n",
       "      <th></th>\n",
       "      <th>customer_uuid</th>\n",
       "      <th>registration_timestamp</th>\n",
       "      <th>region</th>\n",
       "      <th>sales_channel</th>\n",
       "      <th>merchant_category</th>\n",
       "      <th>transaction_timestamp</th>\n",
       "      <th>amount_eur_x</th>\n",
       "      <th>expense</th>\n",
       "      <th>amount_eur_y</th>\n",
       "      <th>profit</th>\n",
       "    </tr>\n",
       "  </thead>\n",
       "  <tbody>\n",
       "    <tr>\n",
       "      <th>0</th>\n",
       "      <td>8252201a-9149-11e7-9552-9801a7abc7bf</td>\n",
       "      <td>2016-05-05 02:09:43</td>\n",
       "      <td>Latin America</td>\n",
       "      <td>Partnership</td>\n",
       "      <td>Retail</td>\n",
       "      <td>2016-06-02 11:39:53</td>\n",
       "      <td>6.168745</td>\n",
       "      <td>63.0</td>\n",
       "      <td>7214.847977</td>\n",
       "      <td>288.593919</td>\n",
       "    </tr>\n",
       "    <tr>\n",
       "      <th>1</th>\n",
       "      <td>8252201a-9149-11e7-9552-9801a7abc7bf</td>\n",
       "      <td>2016-05-05 02:09:43</td>\n",
       "      <td>Latin America</td>\n",
       "      <td>Partnership</td>\n",
       "      <td>Retail</td>\n",
       "      <td>2016-06-02 14:00:47</td>\n",
       "      <td>9.114703</td>\n",
       "      <td>63.0</td>\n",
       "      <td>7214.847977</td>\n",
       "      <td>288.593919</td>\n",
       "    </tr>\n",
       "    <tr>\n",
       "      <th>2</th>\n",
       "      <td>8252201a-9149-11e7-9552-9801a7abc7bf</td>\n",
       "      <td>2016-05-05 02:09:43</td>\n",
       "      <td>Latin America</td>\n",
       "      <td>Partnership</td>\n",
       "      <td>Retail</td>\n",
       "      <td>2016-06-02 16:44:18</td>\n",
       "      <td>5.125684</td>\n",
       "      <td>63.0</td>\n",
       "      <td>7214.847977</td>\n",
       "      <td>288.593919</td>\n",
       "    </tr>\n",
       "    <tr>\n",
       "      <th>3</th>\n",
       "      <td>8252201a-9149-11e7-9552-9801a7abc7bf</td>\n",
       "      <td>2016-05-05 02:09:43</td>\n",
       "      <td>Latin America</td>\n",
       "      <td>Partnership</td>\n",
       "      <td>Retail</td>\n",
       "      <td>2016-06-02 21:24:36</td>\n",
       "      <td>18.967257</td>\n",
       "      <td>63.0</td>\n",
       "      <td>7214.847977</td>\n",
       "      <td>288.593919</td>\n",
       "    </tr>\n",
       "    <tr>\n",
       "      <th>4</th>\n",
       "      <td>8252201a-9149-11e7-9552-9801a7abc7bf</td>\n",
       "      <td>2016-05-05 02:09:43</td>\n",
       "      <td>Latin America</td>\n",
       "      <td>Partnership</td>\n",
       "      <td>Retail</td>\n",
       "      <td>2016-11-01 13:50:20</td>\n",
       "      <td>15.334802</td>\n",
       "      <td>63.0</td>\n",
       "      <td>7214.847977</td>\n",
       "      <td>288.593919</td>\n",
       "    </tr>\n",
       "  </tbody>\n",
       "</table>\n",
       "</div>"
      ],
      "text/plain": [
       "                          customer_uuid registration_timestamp         region  \\\n",
       "0  8252201a-9149-11e7-9552-9801a7abc7bf    2016-05-05 02:09:43  Latin America   \n",
       "1  8252201a-9149-11e7-9552-9801a7abc7bf    2016-05-05 02:09:43  Latin America   \n",
       "2  8252201a-9149-11e7-9552-9801a7abc7bf    2016-05-05 02:09:43  Latin America   \n",
       "3  8252201a-9149-11e7-9552-9801a7abc7bf    2016-05-05 02:09:43  Latin America   \n",
       "4  8252201a-9149-11e7-9552-9801a7abc7bf    2016-05-05 02:09:43  Latin America   \n",
       "\n",
       "  sales_channel merchant_category transaction_timestamp  amount_eur_x  \\\n",
       "0   Partnership            Retail   2016-06-02 11:39:53      6.168745   \n",
       "1   Partnership            Retail   2016-06-02 14:00:47      9.114703   \n",
       "2   Partnership            Retail   2016-06-02 16:44:18      5.125684   \n",
       "3   Partnership            Retail   2016-06-02 21:24:36     18.967257   \n",
       "4   Partnership            Retail   2016-11-01 13:50:20     15.334802   \n",
       "\n",
       "   expense  amount_eur_y      profit  \n",
       "0     63.0   7214.847977  288.593919  \n",
       "1     63.0   7214.847977  288.593919  \n",
       "2     63.0   7214.847977  288.593919  \n",
       "3     63.0   7214.847977  288.593919  \n",
       "4     63.0   7214.847977  288.593919  "
      ]
     },
     "execution_count": 11,
     "metadata": {},
     "output_type": "execute_result"
    }
   ],
   "source": [
    "train_p.head()"
   ]
  },
  {
   "cell_type": "code",
   "execution_count": 12,
   "metadata": {
    "collapsed": true
   },
   "outputs": [],
   "source": [
    "train_p.loc[train_p.profit > train_p.expense, 'label'] = 1\n",
    "train_p.loc[train_p.profit < train_p.expense, 'label'] = 0"
   ]
  },
  {
   "cell_type": "markdown",
   "metadata": {},
   "source": [
    "# Expoloring data"
   ]
  },
  {
   "cell_type": "code",
   "execution_count": 13,
   "metadata": {
    "collapsed": true
   },
   "outputs": [],
   "source": [
    "# General exploratory analysis. Done using Tableau"
   ]
  },
  {
   "cell_type": "code",
   "execution_count": 14,
   "metadata": {},
   "outputs": [
    {
     "ename": "IOError",
     "evalue": "[Errno 2] No such file or directory: u'/Users/khrystynakosenko/Desktop/Screen Shot 2017-09-11 at 2.29.28 AM.png'",
     "traceback": [
      "\u001b[0;31m---------------------------------------------------------------------------\u001b[0m",
      "\u001b[0;31mIOError\u001b[0m                                   Traceback (most recent call last)",
      "\u001b[0;32m<ipython-input-14-08af36a32e8e>\u001b[0m in \u001b[0;36m<module>\u001b[0;34m()\u001b[0m\n\u001b[0;32m----> 1\u001b[0;31m \u001b[0mImage\u001b[0m\u001b[0;34m(\u001b[0m\u001b[0mfilename\u001b[0m\u001b[0;34m=\u001b[0m\u001b[0;34m'/Users/khrystynakosenko/Desktop/Screen Shot 2017-09-11 at 2.29.28 AM.png'\u001b[0m\u001b[0;34m)\u001b[0m\u001b[0;34m\u001b[0m\u001b[0m\n\u001b[0m",
      "\u001b[0;32m/Users/khrystynakosenko/anaconda/envs/py27/lib/python2.7/site-packages/IPython/core/display.pyc\u001b[0m in \u001b[0;36m__init__\u001b[0;34m(self, data, url, filename, format, embed, width, height, retina, unconfined, metadata)\u001b[0m\n\u001b[1;32m    756\u001b[0m         \u001b[0mself\u001b[0m\u001b[0;34m.\u001b[0m\u001b[0munconfined\u001b[0m \u001b[0;34m=\u001b[0m \u001b[0munconfined\u001b[0m\u001b[0;34m\u001b[0m\u001b[0m\n\u001b[1;32m    757\u001b[0m         \u001b[0mself\u001b[0m\u001b[0;34m.\u001b[0m\u001b[0mmetadata\u001b[0m \u001b[0;34m=\u001b[0m \u001b[0mmetadata\u001b[0m\u001b[0;34m\u001b[0m\u001b[0m\n\u001b[0;32m--> 758\u001b[0;31m         \u001b[0msuper\u001b[0m\u001b[0;34m(\u001b[0m\u001b[0mImage\u001b[0m\u001b[0;34m,\u001b[0m \u001b[0mself\u001b[0m\u001b[0;34m)\u001b[0m\u001b[0;34m.\u001b[0m\u001b[0m__init__\u001b[0m\u001b[0;34m(\u001b[0m\u001b[0mdata\u001b[0m\u001b[0;34m=\u001b[0m\u001b[0mdata\u001b[0m\u001b[0;34m,\u001b[0m \u001b[0murl\u001b[0m\u001b[0;34m=\u001b[0m\u001b[0murl\u001b[0m\u001b[0;34m,\u001b[0m \u001b[0mfilename\u001b[0m\u001b[0;34m=\u001b[0m\u001b[0mfilename\u001b[0m\u001b[0;34m)\u001b[0m\u001b[0;34m\u001b[0m\u001b[0m\n\u001b[0m\u001b[1;32m    759\u001b[0m \u001b[0;34m\u001b[0m\u001b[0m\n\u001b[1;32m    760\u001b[0m         \u001b[0;32mif\u001b[0m \u001b[0mretina\u001b[0m\u001b[0;34m:\u001b[0m\u001b[0;34m\u001b[0m\u001b[0m\n",
      "\u001b[0;32m/Users/khrystynakosenko/anaconda/envs/py27/lib/python2.7/site-packages/IPython/core/display.pyc\u001b[0m in \u001b[0;36m__init__\u001b[0;34m(self, data, url, filename)\u001b[0m\n\u001b[1;32m    392\u001b[0m         \u001b[0mself\u001b[0m\u001b[0;34m.\u001b[0m\u001b[0mfilename\u001b[0m \u001b[0;34m=\u001b[0m \u001b[0mNone\u001b[0m \u001b[0;32mif\u001b[0m \u001b[0mfilename\u001b[0m \u001b[0;32mis\u001b[0m \u001b[0mNone\u001b[0m \u001b[0;32melse\u001b[0m \u001b[0municode_type\u001b[0m\u001b[0;34m(\u001b[0m\u001b[0mfilename\u001b[0m\u001b[0;34m)\u001b[0m\u001b[0;34m\u001b[0m\u001b[0m\n\u001b[1;32m    393\u001b[0m \u001b[0;34m\u001b[0m\u001b[0m\n\u001b[0;32m--> 394\u001b[0;31m         \u001b[0mself\u001b[0m\u001b[0;34m.\u001b[0m\u001b[0mreload\u001b[0m\u001b[0;34m(\u001b[0m\u001b[0;34m)\u001b[0m\u001b[0;34m\u001b[0m\u001b[0m\n\u001b[0m\u001b[1;32m    395\u001b[0m         \u001b[0mself\u001b[0m\u001b[0;34m.\u001b[0m\u001b[0m_check_data\u001b[0m\u001b[0;34m(\u001b[0m\u001b[0;34m)\u001b[0m\u001b[0;34m\u001b[0m\u001b[0m\n\u001b[1;32m    396\u001b[0m \u001b[0;34m\u001b[0m\u001b[0m\n",
      "\u001b[0;32m/Users/khrystynakosenko/anaconda/envs/py27/lib/python2.7/site-packages/IPython/core/display.pyc\u001b[0m in \u001b[0;36mreload\u001b[0;34m(self)\u001b[0m\n\u001b[1;32m    778\u001b[0m         \u001b[0;34m\"\"\"Reload the raw data from file or URL.\"\"\"\u001b[0m\u001b[0;34m\u001b[0m\u001b[0m\n\u001b[1;32m    779\u001b[0m         \u001b[0;32mif\u001b[0m \u001b[0mself\u001b[0m\u001b[0;34m.\u001b[0m\u001b[0membed\u001b[0m\u001b[0;34m:\u001b[0m\u001b[0;34m\u001b[0m\u001b[0m\n\u001b[0;32m--> 780\u001b[0;31m             \u001b[0msuper\u001b[0m\u001b[0;34m(\u001b[0m\u001b[0mImage\u001b[0m\u001b[0;34m,\u001b[0m\u001b[0mself\u001b[0m\u001b[0;34m)\u001b[0m\u001b[0;34m.\u001b[0m\u001b[0mreload\u001b[0m\u001b[0;34m(\u001b[0m\u001b[0;34m)\u001b[0m\u001b[0;34m\u001b[0m\u001b[0m\n\u001b[0m\u001b[1;32m    781\u001b[0m             \u001b[0;32mif\u001b[0m \u001b[0mself\u001b[0m\u001b[0;34m.\u001b[0m\u001b[0mretina\u001b[0m\u001b[0;34m:\u001b[0m\u001b[0;34m\u001b[0m\u001b[0m\n\u001b[1;32m    782\u001b[0m                 \u001b[0mself\u001b[0m\u001b[0;34m.\u001b[0m\u001b[0m_retina_shape\u001b[0m\u001b[0;34m(\u001b[0m\u001b[0;34m)\u001b[0m\u001b[0;34m\u001b[0m\u001b[0m\n",
      "\u001b[0;32m/Users/khrystynakosenko/anaconda/envs/py27/lib/python2.7/site-packages/IPython/core/display.pyc\u001b[0m in \u001b[0;36mreload\u001b[0;34m(self)\u001b[0m\n\u001b[1;32m    410\u001b[0m         \u001b[0;34m\"\"\"Reload the raw data from file or URL.\"\"\"\u001b[0m\u001b[0;34m\u001b[0m\u001b[0m\n\u001b[1;32m    411\u001b[0m         \u001b[0;32mif\u001b[0m \u001b[0mself\u001b[0m\u001b[0;34m.\u001b[0m\u001b[0mfilename\u001b[0m \u001b[0;32mis\u001b[0m \u001b[0;32mnot\u001b[0m \u001b[0mNone\u001b[0m\u001b[0;34m:\u001b[0m\u001b[0;34m\u001b[0m\u001b[0m\n\u001b[0;32m--> 412\u001b[0;31m             \u001b[0;32mwith\u001b[0m \u001b[0mopen\u001b[0m\u001b[0;34m(\u001b[0m\u001b[0mself\u001b[0m\u001b[0;34m.\u001b[0m\u001b[0mfilename\u001b[0m\u001b[0;34m,\u001b[0m \u001b[0mself\u001b[0m\u001b[0;34m.\u001b[0m\u001b[0m_read_flags\u001b[0m\u001b[0;34m)\u001b[0m \u001b[0;32mas\u001b[0m \u001b[0mf\u001b[0m\u001b[0;34m:\u001b[0m\u001b[0;34m\u001b[0m\u001b[0m\n\u001b[0m\u001b[1;32m    413\u001b[0m                 \u001b[0mself\u001b[0m\u001b[0;34m.\u001b[0m\u001b[0mdata\u001b[0m \u001b[0;34m=\u001b[0m \u001b[0mf\u001b[0m\u001b[0;34m.\u001b[0m\u001b[0mread\u001b[0m\u001b[0;34m(\u001b[0m\u001b[0;34m)\u001b[0m\u001b[0;34m\u001b[0m\u001b[0m\n\u001b[1;32m    414\u001b[0m         \u001b[0;32melif\u001b[0m \u001b[0mself\u001b[0m\u001b[0;34m.\u001b[0m\u001b[0murl\u001b[0m \u001b[0;32mis\u001b[0m \u001b[0;32mnot\u001b[0m \u001b[0mNone\u001b[0m\u001b[0;34m:\u001b[0m\u001b[0;34m\u001b[0m\u001b[0m\n",
      "\u001b[0;31mIOError\u001b[0m: [Errno 2] No such file or directory: u'/Users/khrystynakosenko/Desktop/Screen Shot 2017-09-11 at 2.29.28 AM.png'"
     ],
     "output_type": "error"
    }
   ],
   "source": [
    "Image(filename='/Users/khrystynakosenko/Desktop/Screen Shot 2017-09-11 at 2.29.28 AM.png')"
   ]
  },
  {
   "cell_type": "code",
   "execution_count": null,
   "metadata": {},
   "outputs": [],
   "source": [
    "Image(filename='/Users/khrystynakosenko/Desktop/Screen Shot 2017-09-11 at 2.35.26 AM.png')"
   ]
  },
  {
   "cell_type": "markdown",
   "metadata": {},
   "source": [
    "# Preparing features"
   ]
  },
  {
   "cell_type": "code",
   "execution_count": 15,
   "metadata": {},
   "outputs": [
    {
     "data": {
      "text/html": [
       "<div>\n",
       "<style>\n",
       "    .dataframe thead tr:only-child th {\n",
       "        text-align: right;\n",
       "    }\n",
       "\n",
       "    .dataframe thead th {\n",
       "        text-align: left;\n",
       "    }\n",
       "\n",
       "    .dataframe tbody tr th {\n",
       "        vertical-align: top;\n",
       "    }\n",
       "</style>\n",
       "<table border=\"1\" class=\"dataframe\">\n",
       "  <thead>\n",
       "    <tr style=\"text-align: right;\">\n",
       "      <th></th>\n",
       "      <th>customer_uuid</th>\n",
       "      <th>registration_timestamp</th>\n",
       "      <th>region</th>\n",
       "      <th>sales_channel</th>\n",
       "      <th>merchant_category</th>\n",
       "      <th>transaction_timestamp</th>\n",
       "      <th>amount_eur_x</th>\n",
       "      <th>expense</th>\n",
       "      <th>amount_eur_y</th>\n",
       "      <th>profit</th>\n",
       "      <th>label</th>\n",
       "    </tr>\n",
       "  </thead>\n",
       "  <tbody>\n",
       "    <tr>\n",
       "      <th>0</th>\n",
       "      <td>8252201a-9149-11e7-9552-9801a7abc7bf</td>\n",
       "      <td>2016-05-05 02:09:43</td>\n",
       "      <td>Latin America</td>\n",
       "      <td>Partnership</td>\n",
       "      <td>Retail</td>\n",
       "      <td>2016-06-02 11:39:53</td>\n",
       "      <td>6.168745</td>\n",
       "      <td>63.0</td>\n",
       "      <td>7214.847977</td>\n",
       "      <td>288.593919</td>\n",
       "      <td>1.0</td>\n",
       "    </tr>\n",
       "    <tr>\n",
       "      <th>1</th>\n",
       "      <td>8252201a-9149-11e7-9552-9801a7abc7bf</td>\n",
       "      <td>2016-05-05 02:09:43</td>\n",
       "      <td>Latin America</td>\n",
       "      <td>Partnership</td>\n",
       "      <td>Retail</td>\n",
       "      <td>2016-06-02 14:00:47</td>\n",
       "      <td>9.114703</td>\n",
       "      <td>63.0</td>\n",
       "      <td>7214.847977</td>\n",
       "      <td>288.593919</td>\n",
       "      <td>1.0</td>\n",
       "    </tr>\n",
       "    <tr>\n",
       "      <th>2</th>\n",
       "      <td>8252201a-9149-11e7-9552-9801a7abc7bf</td>\n",
       "      <td>2016-05-05 02:09:43</td>\n",
       "      <td>Latin America</td>\n",
       "      <td>Partnership</td>\n",
       "      <td>Retail</td>\n",
       "      <td>2016-06-02 16:44:18</td>\n",
       "      <td>5.125684</td>\n",
       "      <td>63.0</td>\n",
       "      <td>7214.847977</td>\n",
       "      <td>288.593919</td>\n",
       "      <td>1.0</td>\n",
       "    </tr>\n",
       "    <tr>\n",
       "      <th>3</th>\n",
       "      <td>8252201a-9149-11e7-9552-9801a7abc7bf</td>\n",
       "      <td>2016-05-05 02:09:43</td>\n",
       "      <td>Latin America</td>\n",
       "      <td>Partnership</td>\n",
       "      <td>Retail</td>\n",
       "      <td>2016-06-02 21:24:36</td>\n",
       "      <td>18.967257</td>\n",
       "      <td>63.0</td>\n",
       "      <td>7214.847977</td>\n",
       "      <td>288.593919</td>\n",
       "      <td>1.0</td>\n",
       "    </tr>\n",
       "    <tr>\n",
       "      <th>4</th>\n",
       "      <td>8252201a-9149-11e7-9552-9801a7abc7bf</td>\n",
       "      <td>2016-05-05 02:09:43</td>\n",
       "      <td>Latin America</td>\n",
       "      <td>Partnership</td>\n",
       "      <td>Retail</td>\n",
       "      <td>2016-11-01 13:50:20</td>\n",
       "      <td>15.334802</td>\n",
       "      <td>63.0</td>\n",
       "      <td>7214.847977</td>\n",
       "      <td>288.593919</td>\n",
       "      <td>1.0</td>\n",
       "    </tr>\n",
       "  </tbody>\n",
       "</table>\n",
       "</div>"
      ],
      "text/plain": [
       "                          customer_uuid registration_timestamp         region  \\\n",
       "0  8252201a-9149-11e7-9552-9801a7abc7bf    2016-05-05 02:09:43  Latin America   \n",
       "1  8252201a-9149-11e7-9552-9801a7abc7bf    2016-05-05 02:09:43  Latin America   \n",
       "2  8252201a-9149-11e7-9552-9801a7abc7bf    2016-05-05 02:09:43  Latin America   \n",
       "3  8252201a-9149-11e7-9552-9801a7abc7bf    2016-05-05 02:09:43  Latin America   \n",
       "4  8252201a-9149-11e7-9552-9801a7abc7bf    2016-05-05 02:09:43  Latin America   \n",
       "\n",
       "  sales_channel merchant_category transaction_timestamp  amount_eur_x  \\\n",
       "0   Partnership            Retail   2016-06-02 11:39:53      6.168745   \n",
       "1   Partnership            Retail   2016-06-02 14:00:47      9.114703   \n",
       "2   Partnership            Retail   2016-06-02 16:44:18      5.125684   \n",
       "3   Partnership            Retail   2016-06-02 21:24:36     18.967257   \n",
       "4   Partnership            Retail   2016-11-01 13:50:20     15.334802   \n",
       "\n",
       "   expense  amount_eur_y      profit  label  \n",
       "0     63.0   7214.847977  288.593919    1.0  \n",
       "1     63.0   7214.847977  288.593919    1.0  \n",
       "2     63.0   7214.847977  288.593919    1.0  \n",
       "3     63.0   7214.847977  288.593919    1.0  \n",
       "4     63.0   7214.847977  288.593919    1.0  "
      ]
     },
     "execution_count": 15,
     "metadata": {},
     "output_type": "execute_result"
    }
   ],
   "source": [
    "train_p.head()"
   ]
  },
  {
   "cell_type": "code",
   "execution_count": 16,
   "metadata": {},
   "outputs": [
    {
     "name": "stdout",
     "output_type": "stream",
     "text": [
      "              amount_eur_x   expense  amount_eur_y    profit     label\n",
      "amount_eur_x      1.000000  0.192348      0.292032  0.235903  0.224270\n",
      "expense           0.192348  1.000000      0.200229  0.086118  0.010101\n",
      "amount_eur_y      0.292032  0.200229      1.000000  0.946591  0.374363\n",
      "profit            0.235903  0.086118      0.946591  1.000000  0.384945\n",
      "label             0.224270  0.010101      0.374363  0.384945  1.000000\n"
     ]
    },
    {
     "data": {
      "text/plain": [
       "<matplotlib.axes._subplots.AxesSubplot at 0x10efd7950>"
      ]
     },
     "execution_count": 16,
     "metadata": {},
     "output_type": "execute_result"
    },
    {
     "data": {
      "image/png": "[encoded data removed]",
      "text/plain": [
       "<matplotlib.figure.Figure at 0x10efd7fd0>"
      ]
     },
     "metadata": {},
     "output_type": "display_data"
    }
   ],
   "source": [
    "\n",
    "# calculate the correlation matrix\n",
    "corr = train_p.corr()\n",
    "\n",
    "print corr\n",
    "# plot the heatmap\n",
    "sns.heatmap(corr)"
   ]
  },
  {
   "cell_type": "code",
   "execution_count": null,
   "metadata": {
    "collapsed": true
   },
   "outputs": [],
   "source": []
  },
  {
   "cell_type": "code",
   "execution_count": 17,
   "metadata": {},
   "outputs": [
    {
     "name": "stderr",
     "output_type": "stream",
     "text": [
      "/Users/khrystynakosenko/anaconda/envs/py27/lib/python2.7/site-packages/ipykernel/__main__.py:4: DeprecationWarning: \n",
      ".ix is deprecated. Please use\n",
      ".loc for label based indexing or\n",
      ".iloc for positional indexing\n",
      "\n",
      "See the documentation here:\n",
      "http://pandas.pydata.org/pandas-docs/stable/indexing.html#deprecate_ix\n"
     ]
    },
    {
     "name": "stdout",
     "output_type": "stream",
     "text": [
      "   customer_uuid  region_Europe  region_Latin America  \\\n",
      "0           6156              0                     1   \n",
      "1           6163              1                     0   \n",
      "2           6172              0                     1   \n",
      "3           6178              1                     0   \n",
      "4           6187              1                     0   \n",
      "\n",
      "   sales_channel_Direct Sales  sales_channel_Online  \\\n",
      "0                           0                     0   \n",
      "1                           0                     1   \n",
      "2                           0                     1   \n",
      "3                           0                     1   \n",
      "4                           0                     1   \n",
      "\n",
      "   sales_channel_Partnership  merchant_category_Food & Drink  \\\n",
      "0                          1                               0   \n",
      "1                          0                               0   \n",
      "2                          0                               0   \n",
      "3                          0                               1   \n",
      "4                          0                               0   \n",
      "\n",
      "   merchant_category_Health Services  merchant_category_Other  \\\n",
      "0                                  0                        0   \n",
      "1                                  1                        0   \n",
      "2                                  0                        0   \n",
      "3                                  0                        0   \n",
      "4                                  1                        0   \n",
      "\n",
      "   merchant_category_Retail  \n",
      "0                         1  \n",
      "1                         0  \n",
      "2                         1  \n",
      "3                         0  \n",
      "4                         0  \n"
     ]
    },
    {
     "name": "stderr",
     "output_type": "stream",
     "text": [
      "/Users/khrystynakosenko/anaconda/envs/py27/lib/python2.7/site-packages/ipykernel/__main__.py:12: DeprecationWarning: \n",
      ".ix is deprecated. Please use\n",
      ".loc for label based indexing or\n",
      ".iloc for positional indexing\n",
      "\n",
      "See the documentation here:\n",
      "http://pandas.pydata.org/pandas-docs/stable/indexing.html#deprecate_ix\n"
     ]
    }
   ],
   "source": [
    "\n",
    "#will drop data for transaction time and money paid, since we have the total ammount of money that certain customer presented\n",
    "#also will remove duplicates, since after removing transaction specific data having so many entries for each user is uselles\n",
    "train = train_p.ix[:,\n",
    "     ['customer_uuid', 'region', 'sales_channel', 'merchant_category', \n",
    "      'expense', 'profit', 'label']]\n",
    "\n",
    "train.head()\n",
    "train = train.drop_duplicates()\n",
    "train = train.reset_index()\n",
    "# print (train[train['label']==1]).count()\n",
    "y = train.ix[:,'label']\n",
    "train = train.ix[:,\n",
    "     ['customer_uuid', 'region', 'sales_channel', 'merchant_category'\n",
    "      ]]\n",
    "label_encoder = preprocessing.LabelEncoder()\n",
    "train['customer_uuid'] = label_encoder.fit_transform(train['customer_uuid'])\n",
    "# train['expense'] = label_encoder.fit_transform(train['expense'])\n",
    "# train['region'] = label_encoder.fit_transform(train['region'])\n",
    "# train['sales_channel'] = label_encoder.fit_transform(train['sales_channel'])\n",
    "# train['merchant_category'] = label_encoder.fit_transform(train['merchant_category'])\n",
    "train = pd.get_dummies(train, columns=['region', 'sales_channel','merchant_category'])\n",
    "print train.head()\n",
    "\n",
    "features = train.columns\n",
    "X = train.as_matrix().astype(np.float)\n"
   ]
  },
  {
   "cell_type": "code",
   "execution_count": 18,
   "metadata": {
    "collapsed": true
   },
   "outputs": [],
   "source": [
    "#Since we have highly unbalanced data, i will balance it.\n",
    "\n",
    "def balanced_sample_maker(X, y, random_seed=None):\n",
    "    \"\"\" return a balanced data set by oversampling minority class \n",
    "        current version is developed on assumption that the positive\n",
    "        class is the minority.\n",
    "\n",
    "    Parameters:\n",
    "    ===========\n",
    "    X: {numpy.ndarrray}\n",
    "    y: {numpy.ndarray}\n",
    "    \"\"\"\n",
    "    uniq_levels = unique(y)\n",
    "    uniq_counts = {level: sum(y == level) for level in uniq_levels}\n",
    "\n",
    "    if not random_seed is None:\n",
    "        random.seed(random_seed)\n",
    "\n",
    "    # find observation index of each class levels\n",
    "    groupby_levels = {}\n",
    "    for ii, level in enumerate(uniq_levels):\n",
    "        obs_idx = [idx for idx, val in enumerate(y) if val == level]\n",
    "        groupby_levels[level] = obs_idx\n",
    "\n",
    "    # oversampling on observations of positive label\n",
    "    sample_size = uniq_counts[0]\n",
    "    over_sample_idx = random.choice(groupby_levels[1], size=sample_size, replace=True).tolist()\n",
    "    balanced_copy_idx = groupby_levels[0] + over_sample_idx\n",
    "    random.shuffle(balanced_copy_idx)\n",
    "\n",
    "    return X[balanced_copy_idx, :], y[balanced_copy_idx]\n",
    "X,y = balanced_sample_maker(X,y)"
   ]
  },
  {
   "cell_type": "code",
   "execution_count": 19,
   "metadata": {
    "collapsed": true
   },
   "outputs": [],
   "source": [
    "from sklearn.preprocessing import StandardScaler\n",
    "scaler = StandardScaler()\n",
    "X = scaler.fit_transform(X)"
   ]
  },
  {
   "cell_type": "code",
   "execution_count": 20,
   "metadata": {},
   "outputs": [
    {
     "data": {
      "text/plain": [
       "array([[ 0.97088468, -1.36006418,  1.36006418, ..., -0.5398473 ,\n",
       "        -0.44765502, -0.55332297],\n",
       "       [ 0.48920347,  0.73525942, -0.73525942, ...,  1.85237566,\n",
       "        -0.44765502, -0.55332297],\n",
       "       [-0.82625218,  0.73525942, -0.73525942, ..., -0.5398473 ,\n",
       "        -0.44765502, -0.55332297],\n",
       "       ..., \n",
       "       [-0.16618074,  0.73525942, -0.73525942, ..., -0.5398473 ,\n",
       "        -0.44765502, -0.55332297],\n",
       "       [-0.55273887, -1.36006418,  1.36006418, ..., -0.5398473 ,\n",
       "        -0.44765502, -0.55332297],\n",
       "       [-0.64538047, -1.36006418,  1.36006418, ..., -0.5398473 ,\n",
       "         2.23386303, -0.55332297]])"
      ]
     },
     "execution_count": 20,
     "metadata": {},
     "output_type": "execute_result"
    }
   ],
   "source": [
    "X"
   ]
  },
  {
   "cell_type": "code",
   "execution_count": null,
   "metadata": {},
   "outputs": [],
   "source": [
    "print \"Features %d observations and %d features\" % X.shape\n",
    "print \"Labels:\", np.unique(y)"
   ]
  },
  {
   "cell_type": "code",
   "execution_count": 21,
   "metadata": {},
   "outputs": [
    {
     "name": "stderr",
     "output_type": "stream",
     "text": [
      "/Users/khrystynakosenko/anaconda/envs/py27/lib/python2.7/site-packages/ipykernel/__main__.py:2: DeprecationWarning: \n",
      ".ix is deprecated. Please use\n",
      ".loc for label based indexing or\n",
      ".iloc for positional indexing\n",
      "\n",
      "See the documentation here:\n",
      "http://pandas.pydata.org/pandas-docs/stable/indexing.html#deprecate_ix\n",
      "  from ipykernel import kernelapp as app\n"
     ]
    }
   ],
   "source": [
    "y= y.reset_index()\n",
    "y = y.ix[:,'label']"
   ]
  },
  {
   "cell_type": "markdown",
   "metadata": {},
   "source": [
    "# Training model"
   ]
  },
  {
   "cell_type": "code",
   "execution_count": 22,
   "metadata": {
    "collapsed": true
   },
   "outputs": [],
   "source": [
    "# from sklearn.model_selection import RepeatedStratifiedKFold\n",
    "from sklearn.model_selection import StratifiedShuffleSplit\n",
    "def classifier(X, y, model_class, shuffle=True, n_folds=10, **kwargs):\n",
    "    stratified_k_fold = cross_validation.StratifiedShuffleSplit(y, test_size=0.2, random_state=30)\n",
    "    y_pred = y.copy()\n",
    "    for ii, jj in stratified_k_fold:\n",
    "        X_train, X_test = X[ii], X[jj]\n",
    "        y_train = y[ii]\n",
    "#         print y_train.count()\n",
    "#         print (y[y == 1].count())\n",
    "#         print (y[y == 0].count())\n",
    "        clf = model_class(**kwargs)\n",
    "        clf.fit(X_train,y_train)\n",
    "        y_pred[jj] = clf.predict(X_test)\n",
    "    return y_pred"
   ]
  },
  {
   "cell_type": "code",
   "execution_count": null,
   "metadata": {},
   "outputs": [],
   "source": [
    "# print('Support vector machine(SVM): {:.2f}'.format(metrics.accuracy_score(y, classifier(X, y, SVC))))\n",
    "print('Random Forest Classifier: {:.2f}'.format(metrics.accuracy_score(y, classifier(X, y, RandomForestClassifier, n_estimators=50))))\n",
    "# print('K Nearest Neighbor Classifier: {:.2f}'.format(metrics.accuracy_score(y, classifier(X, y, KNeighborsClassifier))))\n",
    "# print('Logistic Regression: {:.2f}'.format(metrics.accuracy_score(y, classifier(X, y, LogisticRegression, C=1.0))))\n",
    "# C=10.0, gamma = 1.0, class_weight= 'balanced'\n",
    "# print('SGDClassifier: {:.2f}'.format(metrics.accuracy_score(y, classifier(X, y, linear_model.SGDClassifier))))\n"
   ]
  },
  {
   "cell_type": "code",
   "execution_count": null,
   "metadata": {
    "collapsed": true
   },
   "outputs": [],
   "source": [
    "# find best parameter for n_estimators\n",
    "\n",
    "scores = []\n",
    "\n",
    "for val in range (1,50):\n",
    "    m = RandomForestClassifier(n_estimators= val)\n",
    "    v = cross_val_score(m, X, y, cv=10, scoring = 'f1')\n",
    "    scores.append(v)\n",
    "    "
   ]
  },
  {
   "cell_type": "code",
   "execution_count": null,
   "metadata": {
    "collapsed": true
   },
   "outputs": [],
   "source": [
    "#check accuracy, confusion matrix\n",
    "svc = metrics.confusion_matrix(y, classifier(X, y, SVC))\n",
    "RF = metrics.confusion_matrix(y, classifier(X, y, RandomForestClassifier, n_estimators=50))\n",
    "LR = metrics.confusion_matrix(y, classifier(X, y, LogisticRegression))"
   ]
  },
  {
   "cell_type": "code",
   "execution_count": null,
   "metadata": {
    "collapsed": true
   },
   "outputs": [],
   "source": [
    "conf_matrix = {\n",
    "                \n",
    "                1: {\n",
    "                    'matrix': svc,\n",
    "                    'title': 'Support Vector Machine',\n",
    "                   },\n",
    "                2: {\n",
    "                    'matrix': RF,\n",
    "                    'title': 'Random Forest',\n",
    "                   },\n",
    "    \n",
    "                \n",
    "                3: {\n",
    "                    'matrix': LR,\n",
    "                    'title': 'Logistic Regression',\n",
    "                   }\n",
    "                \n",
    "}"
   ]
  },
  {
   "cell_type": "code",
   "execution_count": null,
   "metadata": {},
   "outputs": [],
   "source": [
    "\n",
    "fix, ax = plt.subplots(figsize=(19, 16))\n",
    "\n",
    "plt.suptitle('Confusion Matrix ')\n",
    "for i, values in conf_matrix.items():\n",
    "    matrix = values['matrix']\n",
    "    title = values['title']\n",
    "    plt.subplot(2, 2, i) # starts from 1\n",
    "    plt.title(title);\n",
    "    sns.heatmap(matrix, annot=True,  fmt='');"
   ]
  },
  {
   "cell_type": "code",
   "execution_count": 23,
   "metadata": {
    "collapsed": true
   },
   "outputs": [],
   "source": [
    "#training the best model\n",
    "\n",
    "stratified_k_fold = cross_validation.StratifiedShuffleSplit(y, test_size=0.2, random_state=30)\n",
    "for ii, jj in stratified_k_fold:\n",
    "    X_train, X_test = X[ii], X[jj]\n",
    "    y_train = y[ii]\n",
    "    best_clf = RandomForestClassifier(n_estimators=50)\n",
    "    best_clf.fit(X_train,y_train)\n",
    "    "
   ]
  },
  {
   "cell_type": "code",
   "execution_count": 24,
   "metadata": {},
   "outputs": [
    {
     "name": "stderr",
     "output_type": "stream",
     "text": [
      "/Users/khrystynakosenko/anaconda/envs/py27/lib/python2.7/site-packages/ipykernel/__main__.py:3: DeprecationWarning: \n",
      ".ix is deprecated. Please use\n",
      ".loc for label based indexing or\n",
      ".iloc for positional indexing\n",
      "\n",
      "See the documentation here:\n",
      "http://pandas.pydata.org/pandas-docs/stable/indexing.html#deprecate_ix\n",
      "  app.launch_new_instance()\n",
      "/Users/khrystynakosenko/anaconda/envs/py27/lib/python2.7/site-packages/ipykernel/__main__.py:11: DeprecationWarning: \n",
      ".ix is deprecated. Please use\n",
      ".loc for label based indexing or\n",
      ".iloc for positional indexing\n",
      "\n",
      "See the documentation here:\n",
      "http://pandas.pydata.org/pandas-docs/stable/indexing.html#deprecate_ix\n"
     ]
    }
   ],
   "source": [
    "df_test = pd.read_csv('/Users/khrystynakosenko/izettle/Data scienctist test/merchant_profile_new.csv')\n",
    "\n",
    "test = df_test.ix[:,\n",
    "     ['customer_uuid', 'region', 'sales_channel', 'merchant_category', \n",
    "      ]]\n",
    "\n",
    "test.head()\n",
    "test = test.drop_duplicates()\n",
    "test = test.reset_index()\n",
    "# print (test[test['label']==1]).count()\n",
    "test = test.ix[:,\n",
    "     ['customer_uuid', 'region', 'sales_channel', 'merchant_category'\n",
    "      ]]\n",
    "label_encoder = preprocessing.LabelEncoder()\n",
    "test['customer_uuid'] = label_encoder.fit_transform(test['customer_uuid'])\n",
    "test = pd.get_dummies(test, columns=['region', 'sales_channel','merchant_category'])\n",
    "\n",
    "\n",
    "# features = test.columns\n",
    "# X_test1 = test.as_matrix().astype(np.float)\n",
    "# print len(X_test1)\n",
    "# X_test1 = scaler.fit_transform(X)\n",
    "# print len(X_test1)\n"
   ]
  },
  {
   "cell_type": "code",
   "execution_count": 338,
   "metadata": {
    "collapsed": true
   },
   "outputs": [],
   "source": [
    "#save model\n",
    "s = pickle.dumps(best_clf)\n",
    "clf2 = pickle.loads(s)"
   ]
  },
  {
   "cell_type": "code",
   "execution_count": 1,
   "metadata": {},
   "outputs": [
    {
     "ename": "NameError",
     "evalue": "name 'best_clf' is not defined",
     "traceback": [
      "\u001b[0;31m---------------------------------------------------------------------------\u001b[0m",
      "\u001b[0;31mNameError\u001b[0m                                 Traceback (most recent call last)",
      "\u001b[0;32m<ipython-input-1-b5449c629cfb>\u001b[0m in \u001b[0;36m<module>\u001b[0;34m()\u001b[0m\n\u001b[0;32m----> 1\u001b[0;31m \u001b[0mdf_test\u001b[0m\u001b[0;34m[\u001b[0m\u001b[0;34m'profitable'\u001b[0m\u001b[0;34m]\u001b[0m \u001b[0;34m=\u001b[0m \u001b[0mbest_clf\u001b[0m\u001b[0;34m.\u001b[0m\u001b[0mpredict\u001b[0m\u001b[0;34m(\u001b[0m\u001b[0mtest\u001b[0m\u001b[0;34m)\u001b[0m\u001b[0;34m\u001b[0m\u001b[0m\n\u001b[0m",
      "\u001b[0;31mNameError\u001b[0m: name 'best_clf' is not defined"
     ],
     "output_type": "error"
    }
   ],
   "source": [
    "\n",
    "df_test['profitable'] = best_clf.predict(test)"
   ]
  },
  {
   "cell_type": "code",
   "execution_count": 25,
   "metadata": {},
   "outputs": [
    {
     "ename": "ImportError",
     "evalue": "No module named ggplot",
     "traceback": [
      "\u001b[0;31m---------------------------------------------------------------------------\u001b[0m",
      "\u001b[0;31mImportError\u001b[0m                               Traceback (most recent call last)",
      "\u001b[0;32m<ipython-input-25-8b7e13eadfe7>\u001b[0m in \u001b[0;36m<module>\u001b[0;34m()\u001b[0m\n\u001b[0;32m----> 1\u001b[0;31m \u001b[0;32mfrom\u001b[0m \u001b[0mggplot\u001b[0m \u001b[0;32mimport\u001b[0m \u001b[0;34m*\u001b[0m\u001b[0;34m\u001b[0m\u001b[0m\n\u001b[0m\u001b[1;32m      2\u001b[0m \u001b[0;34m\u001b[0m\u001b[0m\n\u001b[1;32m      3\u001b[0m \u001b[0;34m\u001b[0m\u001b[0m\n\u001b[1;32m      4\u001b[0m \u001b[0;32mprint\u001b[0m\u001b[0;34m(\u001b[0m\u001b[0;34m'Random Forest Classifier: {:.2f}'\u001b[0m\u001b[0;34m.\u001b[0m\u001b[0mformat\u001b[0m\u001b[0;34m(\u001b[0m\u001b[0mmetrics\u001b[0m\u001b[0;34m.\u001b[0m\u001b[0maccuracy_score\u001b[0m\u001b[0;34m(\u001b[0m\u001b[0my\u001b[0m\u001b[0;34m,\u001b[0m \u001b[0mclassifier\u001b[0m\u001b[0;34m(\u001b[0m\u001b[0mX\u001b[0m\u001b[0;34m,\u001b[0m \u001b[0my\u001b[0m\u001b[0;34m,\u001b[0m \u001b[0mRandomForestClassifier\u001b[0m\u001b[0;34m,\u001b[0m \u001b[0mn_estimators\u001b[0m\u001b[0;34m=\u001b[0m\u001b[0;36m50\u001b[0m\u001b[0;34m)\u001b[0m\u001b[0;34m)\u001b[0m\u001b[0;34m)\u001b[0m\u001b[0;34m)\u001b[0m\u001b[0;34m\u001b[0m\u001b[0m\n\u001b[1;32m      5\u001b[0m \u001b[0mpreds\u001b[0m \u001b[0;34m=\u001b[0m \u001b[0mbest_clf\u001b[0m\u001b[0;34m.\u001b[0m\u001b[0mpredict\u001b[0m\u001b[0;34m(\u001b[0m\u001b[0mtest\u001b[0m\u001b[0;34m)\u001b[0m\u001b[0;34m\u001b[0m\u001b[0m\n",
      "\u001b[0;31mImportError\u001b[0m: No module named ggplot"
     ],
     "output_type": "error"
    }
   ],
   "source": [
    "from ggplot import *\n",
    "\n",
    "\n",
    "print('Random Forest Classifier: {:.2f}'.format(metrics.accuracy_score(y, classifier(X, y, RandomForestClassifier, n_estimators=50))))\n",
    "stratified_k_fold = cross_validation.StratifiedShuffleSplit(y, test_size=0.2, random_state=30)\n",
    "for ii, jj in stratified_k_fold:\n",
    "    X_train, X_test = X[ii], X[jj]\n",
    "    y_train = y[ii]\n",
    "    best_clf = RandomForestClassifier(n_estimators=50)\n",
    "    best_clf.fit(X_train,y_train)\n",
    "\n",
    "preds = best_clf.predict(test)\n",
    "fpr, tpr, _ = metrics.roc_curve(ytest, preds)\n",
    "\n",
    "df = pd.DataFrame(dict(fpr=fpr, tpr=tpr))\n",
    "ggplot(df, aes(x='fpr', y='tpr')) +\\\n",
    "    geom_line() +\\\n",
    "    geom_abline(linetype='dashed')"
   ]
  },
  {
   "cell_type": "code",
   "execution_count": null,
   "metadata": {},
   "outputs": [],
   "source": [
    "df_test.head()"
   ]
  },
  {
   "cell_type": "code",
   "execution_count": null,
   "metadata": {
    "collapsed": true
   },
   "outputs": [],
   "source": [
    "df_test.to_csv('/Users/khrystynakosenko/izettle/Data scienctist test/merchant_profile_new.csv')"
   ]
  },
  {
   "cell_type": "code",
   "execution_count": null,
   "metadata": {
    "collapsed": true
   },
   "outputs": [],
   "source": []
  }
 ],
 "metadata": {
  "kernelspec": {
   "display_name": "Python [conda env:py27]",
   "language": "python",
   "name": "conda-env-py27-py"
  },
  "language_info": {
   "codemirror_mode": {
    "name": "ipython",
    "version": 2
   },
   "file_extension": ".py",
   "mimetype": "text/x-python",
   "name": "python",
   "nbconvert_exporter": "python",
   "pygments_lexer": "ipython2",
   "version": "2.7.13"
  }
 },
 "nbformat": 4,
 "nbformat_minor": 2
}
